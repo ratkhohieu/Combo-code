{
 "cells": [
  {
   "cell_type": "code",
   "execution_count": 1,
   "metadata": {},
   "outputs": [],
   "source": [
    "import torch\n",
    "import numpy as np\n",
    "from torchvision import datasets\n",
    "from torchvision import transforms\n",
    "from torch.utils.data import DataLoader\n",
    "import torch.nn.functional as F\n",
    "import torch.nn as nn\n",
    "import time"
   ]
  },
  {
   "cell_type": "code",
   "execution_count": 2,
   "metadata": {},
   "outputs": [],
   "source": [
    "device = torch.device(\"cuda:0\" if torch.cuda.is_available() else \"cpu\")\n",
    "\n",
    "learning_rate = 0.1\n",
    "num_epochs = 10\n",
    "batch_size = 128"
   ]
  },
  {
   "cell_type": "code",
   "execution_count": 3,
   "metadata": {},
   "outputs": [],
   "source": [
    "train_dataset = datasets.MNIST(root='data', train=True, transform=transforms.ToTensor(), download=True)\n",
    "test_dataset = datasets.MNIST(root='data', train=False, transform=transforms.ToTensor())\n",
    "\n",
    "train_loader = DataLoader(dataset=train_dataset, batch_size=batch_size, shuffle=True)\n",
    "test_loader = DataLoader(dataset=test_dataset, batch_size=batch_size, shuffle=False)"
   ]
  },
  {
   "cell_type": "code",
   "execution_count": 4,
   "metadata": {},
   "outputs": [
    {
     "name": "stdout",
     "output_type": "stream",
     "text": [
      "Image batch dimensions: torch.Size([128, 1, 28, 28])\n",
      "Image label dimensions: torch.Size([128])\n"
     ]
    }
   ],
   "source": [
    "for image , label in train_loader:\n",
    "    print('Image batch dimensions:' , image.shape)\n",
    "    print('Image label dimensions:' , label.shape)\n",
    "    break"
   ]
  },
  {
   "cell_type": "code",
   "execution_count": 5,
   "metadata": {},
   "outputs": [],
   "source": [
    "class Multilayer_Perceptron(torch.nn.Module):\n",
    "    \n",
    "    def __init__(self, num_features, num_classes):\n",
    "        super(Multilayer_Perceptron, self).__init__()\n",
    "        \n",
    "        self.linear_1 = nn.Linear(num_features, num_hidden_1)\n",
    "        self.linear_1_bn = nn.BatchNorm1d(num_hidden_1)\n",
    "        self.linear_2 = nn.Linear(num_hidden_1, num_hidden_2)\n",
    "        self.linear_2_bn = nn.BatchNorm1d(num_hidden_2)\n",
    "        self.linear_out = nn.Linear(num_hidden_2, num_classes)\n",
    "    \n",
    "    def forward(self, x):\n",
    "\n",
    "        out = self.linear_1(x)\n",
    "        out = self.linear_1_bn(out)\n",
    "        out = F.relu(out)\n",
    "        out = self.linear_2(out)\n",
    "        out = self.linear_2_bn(out)\n",
    "        out = F.relu(out)\n",
    "        out = self.linear_out(out)\n",
    "        proba = F.log_softmax(out, dim=1)\n",
    "        return proba"
   ]
  },
  {
   "cell_type": "code",
   "execution_count": 6,
   "metadata": {},
   "outputs": [
    {
     "data": {
      "text/plain": [
       "<torch._C.Generator at 0x7fd470f97b70>"
      ]
     },
     "execution_count": 6,
     "metadata": {},
     "output_type": "execute_result"
    }
   ],
   "source": [
    "num_hidden_1 = 128\n",
    "num_hidden_2 = 256\n",
    "\n",
    "model = Multilayer_Perceptron(784, 10)\n",
    "model = model.to(device)\n",
    "optimizer = torch.optim.SGD(model.parameters(), lr=learning_rate)\n",
    "\n",
    "torch.manual_seed(1)"
   ]
  },
  {
   "cell_type": "code",
   "execution_count": 7,
   "metadata": {},
   "outputs": [],
   "source": [
    "def metric_acc(net, data_loader):\n",
    "    net.eval()\n",
    "    correct_pred, num_examples = 0, 0\n",
    "    with torch.no_grad():\n",
    "        for features, targets in data_loader:\n",
    "            features = features.view(-1, 28*28).to(device)\n",
    "            targets = targets.to(device)\n",
    "            proba = net(features)\n",
    "            _, predicted = torch.max(proba, 1)\n",
    "            num_examples +=targets.size(0)\n",
    "            correct_pred += (predicted == targets).sum()\n",
    "        return correct_pred.float()/num_examples*100"
   ]
  },
  {
   "cell_type": "code",
   "execution_count": 8,
   "metadata": {
    "scrolled": true
   },
   "outputs": [
    {
     "name": "stdout",
     "output_type": "stream",
     "text": [
      "Epoch 001/010 | Batch 000/469 | Loss: 2.3975\n",
      "Epoch 001/010 | Batch 050/469 | Loss: 0.2771\n",
      "Epoch 001/010 | Batch 100/469 | Loss: 0.3463\n",
      "Epoch 001/010 | Batch 150/469 | Loss: 0.1911\n",
      "Epoch 001/010 | Batch 200/469 | Loss: 0.2405\n",
      "Epoch 001/010 | Batch 250/469 | Loss: 0.1149\n",
      "Epoch 001/010 | Batch 300/469 | Loss: 0.1684\n",
      "Epoch 001/010 | Batch 350/469 | Loss: 0.0981\n",
      "Epoch 001/010 | Batch 400/469 | Loss: 0.1273\n",
      "Epoch 001/010 | Batch 450/469 | Loss: 0.0774\n",
      "Epoch: 001/010 training accuracy: 97.02%\n",
      "Time elapsed: 0.13 min\n",
      "Epoch 002/010 | Batch 000/469 | Loss: 0.0826\n",
      "Epoch 002/010 | Batch 050/469 | Loss: 0.0355\n",
      "Epoch 002/010 | Batch 100/469 | Loss: 0.0540\n",
      "Epoch 002/010 | Batch 150/469 | Loss: 0.0854\n",
      "Epoch 002/010 | Batch 200/469 | Loss: 0.1458\n",
      "Epoch 002/010 | Batch 250/469 | Loss: 0.1168\n",
      "Epoch 002/010 | Batch 300/469 | Loss: 0.1241\n",
      "Epoch 002/010 | Batch 350/469 | Loss: 0.0869\n",
      "Epoch 002/010 | Batch 400/469 | Loss: 0.1485\n",
      "Epoch 002/010 | Batch 450/469 | Loss: 0.0965\n",
      "Epoch: 002/010 training accuracy: 98.32%\n",
      "Time elapsed: 0.26 min\n",
      "Epoch 003/010 | Batch 000/469 | Loss: 0.1098\n",
      "Epoch 003/010 | Batch 050/469 | Loss: 0.0606\n",
      "Epoch 003/010 | Batch 100/469 | Loss: 0.0844\n",
      "Epoch 003/010 | Batch 150/469 | Loss: 0.0515\n",
      "Epoch 003/010 | Batch 200/469 | Loss: 0.1152\n",
      "Epoch 003/010 | Batch 250/469 | Loss: 0.0365\n",
      "Epoch 003/010 | Batch 300/469 | Loss: 0.0387\n",
      "Epoch 003/010 | Batch 350/469 | Loss: 0.0862\n",
      "Epoch 003/010 | Batch 400/469 | Loss: 0.0711\n",
      "Epoch 003/010 | Batch 450/469 | Loss: 0.1131\n",
      "Epoch: 003/010 training accuracy: 98.95%\n",
      "Time elapsed: 0.39 min\n",
      "Epoch 004/010 | Batch 000/469 | Loss: 0.0324\n",
      "Epoch 004/010 | Batch 050/469 | Loss: 0.0888\n",
      "Epoch 004/010 | Batch 100/469 | Loss: 0.0153\n",
      "Epoch 004/010 | Batch 150/469 | Loss: 0.0535\n",
      "Epoch 004/010 | Batch 200/469 | Loss: 0.1193\n",
      "Epoch 004/010 | Batch 250/469 | Loss: 0.0322\n",
      "Epoch 004/010 | Batch 300/469 | Loss: 0.0328\n",
      "Epoch 004/010 | Batch 350/469 | Loss: 0.0615\n",
      "Epoch 004/010 | Batch 400/469 | Loss: 0.0490\n",
      "Epoch 004/010 | Batch 450/469 | Loss: 0.0932\n",
      "Epoch: 004/010 training accuracy: 99.25%\n",
      "Time elapsed: 0.51 min\n",
      "Epoch 005/010 | Batch 000/469 | Loss: 0.0212\n",
      "Epoch 005/010 | Batch 050/469 | Loss: 0.0539\n",
      "Epoch 005/010 | Batch 100/469 | Loss: 0.0589\n",
      "Epoch 005/010 | Batch 150/469 | Loss: 0.0367\n",
      "Epoch 005/010 | Batch 200/469 | Loss: 0.0259\n",
      "Epoch 005/010 | Batch 250/469 | Loss: 0.0156\n",
      "Epoch 005/010 | Batch 300/469 | Loss: 0.0561\n",
      "Epoch 005/010 | Batch 350/469 | Loss: 0.1064\n",
      "Epoch 005/010 | Batch 400/469 | Loss: 0.0612\n",
      "Epoch 005/010 | Batch 450/469 | Loss: 0.0448\n",
      "Epoch: 005/010 training accuracy: 99.53%\n",
      "Time elapsed: 0.65 min\n",
      "Epoch 006/010 | Batch 000/469 | Loss: 0.0154\n",
      "Epoch 006/010 | Batch 050/469 | Loss: 0.0477\n",
      "Epoch 006/010 | Batch 100/469 | Loss: 0.0264\n",
      "Epoch 006/010 | Batch 150/469 | Loss: 0.0283\n",
      "Epoch 006/010 | Batch 200/469 | Loss: 0.0193\n",
      "Epoch 006/010 | Batch 250/469 | Loss: 0.0256\n",
      "Epoch 006/010 | Batch 300/469 | Loss: 0.0286\n",
      "Epoch 006/010 | Batch 350/469 | Loss: 0.0337\n",
      "Epoch 006/010 | Batch 400/469 | Loss: 0.0395\n",
      "Epoch 006/010 | Batch 450/469 | Loss: 0.0160\n",
      "Epoch: 006/010 training accuracy: 99.51%\n",
      "Time elapsed: 0.78 min\n",
      "Epoch 007/010 | Batch 000/469 | Loss: 0.0168\n",
      "Epoch 007/010 | Batch 050/469 | Loss: 0.0471\n",
      "Epoch 007/010 | Batch 100/469 | Loss: 0.0324\n",
      "Epoch 007/010 | Batch 150/469 | Loss: 0.0114\n",
      "Epoch 007/010 | Batch 200/469 | Loss: 0.0162\n",
      "Epoch 007/010 | Batch 250/469 | Loss: 0.0788\n",
      "Epoch 007/010 | Batch 300/469 | Loss: 0.0221\n",
      "Epoch 007/010 | Batch 350/469 | Loss: 0.0380\n",
      "Epoch 007/010 | Batch 400/469 | Loss: 0.0387\n",
      "Epoch 007/010 | Batch 450/469 | Loss: 0.0371\n",
      "Epoch: 007/010 training accuracy: 99.69%\n",
      "Time elapsed: 0.91 min\n",
      "Epoch 008/010 | Batch 000/469 | Loss: 0.0371\n",
      "Epoch 008/010 | Batch 050/469 | Loss: 0.0073\n",
      "Epoch 008/010 | Batch 100/469 | Loss: 0.0077\n",
      "Epoch 008/010 | Batch 150/469 | Loss: 0.0161\n",
      "Epoch 008/010 | Batch 200/469 | Loss: 0.0050\n",
      "Epoch 008/010 | Batch 250/469 | Loss: 0.0213\n",
      "Epoch 008/010 | Batch 300/469 | Loss: 0.0150\n",
      "Epoch 008/010 | Batch 350/469 | Loss: 0.0066\n",
      "Epoch 008/010 | Batch 400/469 | Loss: 0.0235\n",
      "Epoch 008/010 | Batch 450/469 | Loss: 0.0346\n",
      "Epoch: 008/010 training accuracy: 99.83%\n",
      "Time elapsed: 1.04 min\n",
      "Epoch 009/010 | Batch 000/469 | Loss: 0.0320\n",
      "Epoch 009/010 | Batch 050/469 | Loss: 0.0142\n",
      "Epoch 009/010 | Batch 100/469 | Loss: 0.0083\n",
      "Epoch 009/010 | Batch 150/469 | Loss: 0.0243\n",
      "Epoch 009/010 | Batch 200/469 | Loss: 0.0124\n",
      "Epoch 009/010 | Batch 250/469 | Loss: 0.0148\n",
      "Epoch 009/010 | Batch 300/469 | Loss: 0.0276\n",
      "Epoch 009/010 | Batch 350/469 | Loss: 0.0072\n",
      "Epoch 009/010 | Batch 400/469 | Loss: 0.0256\n",
      "Epoch 009/010 | Batch 450/469 | Loss: 0.0100\n",
      "Epoch: 009/010 training accuracy: 99.87%\n",
      "Time elapsed: 1.17 min\n",
      "Epoch 010/010 | Batch 000/469 | Loss: 0.0104\n",
      "Epoch 010/010 | Batch 050/469 | Loss: 0.0119\n",
      "Epoch 010/010 | Batch 100/469 | Loss: 0.0168\n",
      "Epoch 010/010 | Batch 150/469 | Loss: 0.0040\n",
      "Epoch 010/010 | Batch 200/469 | Loss: 0.0049\n",
      "Epoch 010/010 | Batch 250/469 | Loss: 0.0157\n",
      "Epoch 010/010 | Batch 300/469 | Loss: 0.0158\n",
      "Epoch 010/010 | Batch 350/469 | Loss: 0.0121\n",
      "Epoch 010/010 | Batch 400/469 | Loss: 0.0074\n",
      "Epoch 010/010 | Batch 450/469 | Loss: 0.0189\n",
      "Epoch: 010/010 training accuracy: 99.89%\n",
      "Time elapsed: 1.31 min\n"
     ]
    }
   ],
   "source": [
    "start_time = time.time()\n",
    "for epoch in range(num_epochs):\n",
    "    model.train()\n",
    "    for batch_ind, (features, targets) in enumerate(train_loader):\n",
    "        features = features.view(-1, 28*28).to(device)\n",
    "\n",
    "        targets = targets.to(device)\n",
    "        \n",
    "        proba = model(features)\n",
    "        loss = F.cross_entropy(proba, targets)\n",
    "        optimizer.zero_grad()\n",
    "        loss.backward()\n",
    "        optimizer.step()\n",
    "        if not batch_ind%50:\n",
    "            print('Epoch %03d/%03d | Batch %03d/%03d | Loss: %.4f' % ((epoch+1), num_epochs , batch_ind, \n",
    "                  len(train_loader), loss))\n",
    "    with torch.no_grad():\n",
    "        print('Epoch: %03d/%03d training accuracy: %.2f%%' % (\n",
    "              epoch+1, num_epochs, \n",
    "              metric_acc(model, train_loader)))\n",
    "    print('Time elapsed: %.2f min' % ((time.time() - start_time)/60))   "
   ]
  },
  {
   "cell_type": "code",
   "execution_count": 9,
   "metadata": {},
   "outputs": [
    {
     "name": "stdout",
     "output_type": "stream",
     "text": [
      "Test accuracy: 98.12%\n"
     ]
    }
   ],
   "source": [
    "print('Test accuracy: %.2f%%' % (metric_acc(model, test_loader)))"
   ]
  },
  {
   "cell_type": "code",
   "execution_count": null,
   "metadata": {},
   "outputs": [],
   "source": []
  }
 ],
 "metadata": {
  "kernelspec": {
   "display_name": "Python 3",
   "language": "python",
   "name": "python3"
  },
  "language_info": {
   "codemirror_mode": {
    "name": "ipython",
    "version": 3
   },
   "file_extension": ".py",
   "mimetype": "text/x-python",
   "name": "python",
   "nbconvert_exporter": "python",
   "pygments_lexer": "ipython3",
   "version": "3.7.6"
  }
 },
 "nbformat": 4,
 "nbformat_minor": 4
}
