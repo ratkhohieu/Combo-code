{
 "cells": [
  {
   "cell_type": "code",
   "execution_count": 7,
   "metadata": {},
   "outputs": [],
   "source": [
    "import torch\n",
    "from torchvision import datasets\n",
    "from torchvision import transforms\n",
    "from torch.utils.data import DataLoader"
   ]
  },
  {
   "cell_type": "code",
   "execution_count": 8,
   "metadata": {},
   "outputs": [
    {
     "name": "stdout",
     "output_type": "stream",
     "text": [
      "Total number of training examples: 59000\n"
     ]
    }
   ],
   "source": [
    "from torch.utils.data.dataset import Subset\n",
    "\n",
    "valid_indices = torch.arange(0, 1000)\n",
    "train_indices = torch.arange(1000, 60000)\n",
    "\n",
    "\n",
    "train_and_valid = datasets.MNIST(root='data', \n",
    "                                 train=True, \n",
    "                                 transform=transforms.ToTensor(),\n",
    "                                 download=True)\n",
    "\n",
    "train_dataset = Subset(train_and_valid, train_indices)\n",
    "valid_dataset = Subset(train_and_valid, valid_indices)\n",
    "\n",
    "print(f'Total number of training examples: {len(train_dataset)}')"
   ]
  },
  {
   "cell_type": "markdown",
   "metadata": {},
   "source": [
    "## SubsetRandomSampler Method\n",
    "Compared to the Subset method, the SubsetRandomSampler is a more convenient solution if we want to assign different transformation methods to training and test subsets. Similar to the Subset example, we will use the first 1000 examples for the validation set and the remaining 59000 examples for training."
   ]
  },
  {
   "cell_type": "code",
   "execution_count": 12,
   "metadata": {},
   "outputs": [
    {
     "name": "stdout",
     "output_type": "stream",
     "text": [
      "Total number of training examples: 59000\n"
     ]
    }
   ],
   "source": [
    "from torch.utils.data import SubsetRandomSampler\n",
    "\n",
    "\n",
    "train_indices = torch.arange(1000, 60000)\n",
    "valid_indices = torch.arange(0, 1000)\n",
    "\n",
    "\n",
    "train_sampler = SubsetRandomSampler(train_indices)\n",
    "valid_sampler = SubsetRandomSampler(valid_indices)\n",
    "\n",
    "\n",
    "training_transform = transforms.Compose([transforms.Resize((32, 32)),\n",
    "                                         transforms.RandomCrop((28, 28)),\n",
    "                                         transforms.ToTensor()])\n",
    "\n",
    "valid_transform = transforms.Compose([transforms.Resize((32, 32)),\n",
    "                                         transforms.CenterCrop((28, 28)),\n",
    "                                         transforms.ToTensor()])\n",
    "\n",
    "\n",
    "\n",
    "train_dataset = datasets.MNIST(root='data', \n",
    "                               train=True, \n",
    "                               transform=training_transform,\n",
    "                               download=True)\n",
    "\n",
    "# note that this is the same dataset as \"train_dataset\" above\n",
    "# however, we can now choose a different transform method\n",
    "valid_dataset = datasets.MNIST(root='data', \n",
    "                               train=True, \n",
    "                               transform=valid_transform,\n",
    "                               download=False)\n",
    "\n",
    "test_dataset = datasets.MNIST(root='data', \n",
    "                              train=False, \n",
    "                              transform=valid_transform,\n",
    "                              download=False)\n",
    "\n",
    "train_loader = DataLoader(train_dataset,\n",
    "                          batch_size=1,\n",
    "                          num_workers=4,\n",
    "                          sampler=train_sampler)\n",
    "\n",
    "valid_loader = DataLoader(valid_dataset,\n",
    "                          batch_size=4,\n",
    "                          num_workers=4,\n",
    "                          sampler=valid_sampler)\n",
    "\n",
    "test_loader = DataLoader(dataset=test_dataset, \n",
    "                         batch_size=4,\n",
    "                         num_workers=4,\n",
    "                         shuffle=False)\n",
    "\n",
    "print(f'Total number of training examples: {len(train_loader)}')"
   ]
  },
  {
   "cell_type": "code",
   "execution_count": null,
   "metadata": {},
   "outputs": [],
   "source": []
  }
 ],
 "metadata": {
  "kernelspec": {
   "display_name": "Python 3",
   "language": "python",
   "name": "python3"
  },
  "language_info": {
   "codemirror_mode": {
    "name": "ipython",
    "version": 3
   },
   "file_extension": ".py",
   "mimetype": "text/x-python",
   "name": "python",
   "nbconvert_exporter": "python",
   "pygments_lexer": "ipython3",
   "version": "3.7.6"
  }
 },
 "nbformat": 4,
 "nbformat_minor": 4
}
