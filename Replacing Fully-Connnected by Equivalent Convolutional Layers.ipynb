{
 "cells": [
  {
   "cell_type": "code",
   "execution_count": 1,
   "metadata": {},
   "outputs": [],
   "source": [
    "import torch\n"
   ]
  },
  {
   "cell_type": "code",
   "execution_count": 6,
   "metadata": {},
   "outputs": [
    {
     "data": {
      "text/plain": [
       "torch.Size([1, 1, 2, 2])"
      ]
     },
     "execution_count": 6,
     "metadata": {},
     "output_type": "execute_result"
    }
   ],
   "source": [
    "inputs = torch.tensor([[[[1., 2.],\n",
    "                         [3., 4.]]]])\n",
    "\n",
    "inputs.shape"
   ]
  },
  {
   "cell_type": "code",
   "execution_count": 14,
   "metadata": {},
   "outputs": [
    {
     "data": {
      "text/plain": [
       "tensor([[14.9000, 19.0000]], grad_fn=<ReluBackward0>)"
      ]
     },
     "execution_count": 14,
     "metadata": {},
     "output_type": "execute_result"
    }
   ],
   "source": [
    "fc = torch.nn.Linear(4, 2)\n",
    "\n",
    "weights = torch.tensor([[1.1, 1.2, 1.3, 1.4],\n",
    "                        [1.5, 1.6, 1.7, 1.8]])\n",
    "bias = torch.tensor([1.9, 2.0])\n",
    "fc.weight.data = weights\n",
    "fc.bias.data = bias\n",
    "\n",
    "torch.relu(fc(inputs.view(-1, 4)))"
   ]
  },
  {
   "cell_type": "code",
   "execution_count": 16,
   "metadata": {},
   "outputs": [
    {
     "name": "stdout",
     "output_type": "stream",
     "text": [
      "torch.Size([2, 1, 2, 2])\n",
      "torch.Size([2])\n"
     ]
    },
    {
     "data": {
      "text/plain": [
       "tensor([[[[14.9000]],\n",
       "\n",
       "         [[19.0000]]]], grad_fn=<ReluBackward0>)"
      ]
     },
     "execution_count": 16,
     "metadata": {},
     "output_type": "execute_result"
    }
   ],
   "source": [
    "\n",
    "conv = torch.nn.Conv2d(in_channels=1,\n",
    "                       out_channels=2,\n",
    "                       kernel_size=inputs.squeeze(dim=(0)).squeeze(dim=(0)).size())\n",
    "print(conv.weight.size())\n",
    "print(conv.bias.size())\n",
    "conv.weight.data = weights.view(2, 1, 2, 2)\n",
    "conv.bias.data = bias\n",
    "\n",
    "torch.relu(conv(inputs))"
   ]
  },
  {
   "cell_type": "code",
   "execution_count": 17,
   "metadata": {},
   "outputs": [
    {
     "data": {
      "text/plain": [
       "tensor([[[[14.9000]],\n",
       "\n",
       "         [[19.0000]]]], grad_fn=<ReluBackward0>)"
      ]
     },
     "execution_count": 17,
     "metadata": {},
     "output_type": "execute_result"
    }
   ],
   "source": [
    "\n",
    "conv = torch.nn.Conv2d(in_channels=4,\n",
    "                       out_channels=2,\n",
    "                       kernel_size=(1, 1))\n",
    "\n",
    "conv.weight.data = weights.view(2, 4, 1, 1)\n",
    "conv.bias.data = bias\n",
    "torch.relu(conv(inputs.view(1, 4, 1, 1)))"
   ]
  },
  {
   "cell_type": "code",
   "execution_count": null,
   "metadata": {},
   "outputs": [],
   "source": []
  }
 ],
 "metadata": {
  "kernelspec": {
   "display_name": "Python 3",
   "language": "python",
   "name": "python3"
  },
  "language_info": {
   "codemirror_mode": {
    "name": "ipython",
    "version": 3
   },
   "file_extension": ".py",
   "mimetype": "text/x-python",
   "name": "python",
   "nbconvert_exporter": "python",
   "pygments_lexer": "ipython3",
   "version": "3.7.6"
  }
 },
 "nbformat": 4,
 "nbformat_minor": 4
}
